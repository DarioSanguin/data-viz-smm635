{
 "cells": [
  {
   "cell_type": "markdown",
   "metadata": {},
   "source": [
    "# Visualizing statistical estimates and fits"
   ]
  },
  {
   "cell_type": "markdown",
   "metadata": {},
   "source": [
    "This tutorial shows how to visualize interaction effects included in regression\n",
    "models such as:\n",
    "\n",
    "\\begin{equation}\n",
    "  y = \\alpha + \\beta * x + \\gamma * z + \\delta * x * z + \\epsilon\n",
    "\\end{equation}\n",
    "\n",
    "Mainly, we use interaction terms to take into account that the effect of the  \n",
    "independent variable $x$ on the outcome $y$ is contingent on the variable of a \n",
    "third variable $z$.\n",
    "\n",
    "Examples:\n",
    "\n",
    "+   the economic value of patents is contingent on the intellectual property\n",
    "    regime of a country/set of countries\n",
    "+   the economic returns of schooling are contingent on the institutional and\n",
    "    cultural environment of a country\n",
    "+   the social influence of a Soundcloud user's suggestions/reposts is contingent \n",
    "    on followership\n",
    "+   the influence of job satisfaction on intent to quit is contingent on the \n",
    "    size of the employer "
   ]
  },
  {
   "cell_type": "markdown",
   "metadata": {},
   "source": [
    "Key reference:\n",
    "\n",
    "![](images/baron_kenney.png)"
   ]
  },
  {
   "cell_type": "markdown",
   "metadata": {},
   "source": [
    "# Setup"
   ]
  },
  {
   "cell_type": "markdown",
   "metadata": {},
   "source": [
    "## Libraries"
   ]
  },
  {
   "cell_type": "code",
   "execution_count": 1,
   "metadata": {},
   "outputs": [],
   "source": [
    "import os\n",
    "import numpy as np\n",
    "import matplotlib.pyplot as plt\n",
    "from matplotlib import rc\n",
    "import statsmodels.api as sm\n",
    "import statsmodels.formula as smf\n",
    "import pandas as pd"
   ]
  },
  {
   "cell_type": "markdown",
   "metadata": {},
   "source": [
    "## Viz options"
   ]
  },
  {
   "cell_type": "code",
   "execution_count": 3,
   "metadata": {},
   "outputs": [],
   "source": [
    "rc('font',**{'family':'serif','serif':['Avant Garde']})\n",
    "rc('text', usetex=True)"
   ]
  },
  {
   "cell_type": "markdown",
   "metadata": {},
   "source": [
    "# Application"
   ]
  },
  {
   "cell_type": "markdown",
   "metadata": {},
   "source": [
    "## Goal"
   ]
  },
  {
   "cell_type": "markdown",
   "metadata": {},
   "source": [
    "The working hypothesis is that lower levels of job satisfaction ($x$) increases the\n",
    "chances of turnover, i.e., intent to quit ($y$).\n",
    "\n",
    "On top of this, we think the negative relationship between  $x$ and $y$ depends\n",
    "on the size of the employer. The intuition is that large employers have an \n",
    "internal labor market that allows individuals to change job positions (get a\n",
    "better fit with the task) without quitting the employment relation.\n",
    "\n",
    "The **goal** is showing how the relationship between job satisfaction and \n",
    "intent to quit (as estimated via OLS) changes as firm size increases."
   ]
  },
  {
   "cell_type": "markdown",
   "metadata": {},
   "source": [
    "## Data simulation"
   ]
  },
  {
   "cell_type": "markdown",
   "metadata": {},
   "source": [
    "We simulate multiple datasets involving the following variables:\n",
    "\n",
    "+   job satisfaction - the extent to which an employee is happy with his/her job\n",
    "    (let's assume we have Likert scale data; legend: 1 = not at all, 5 = to a \n",
    "    great extent)\n",
    "+   intent to quit - the extent to which an employee considers the possibility \n",
    "    to quit the current job (let's assume we have Likert scale data; legend: 1 \n",
    "    = not at all, 5 = to a great extent)\n",
    "+   age (in years)\n",
    "+   organizational tenure (years spent working for the employer)\n",
    "   \n",
    "Let's assume that all variables have been transformed into z-scores.\n",
    "   \n",
    "Each dataset we simulate reflect the following cohorts of employers:\n",
    "\n",
    "+   micro firms: 1 - 5 employees\n",
    "+   small firms: 6 - 25 employees\n",
    "+   medium firms: 26 - 100 employees\n",
    "+   large firms: 100 - 500 employees\n",
    "+   very large firms: 500 + "
   ]
  },
  {
   "cell_type": "code",
   "execution_count": 42,
   "metadata": {},
   "outputs": [],
   "source": [
    "# sample size\n",
    "num_samples = 1000\n",
    "\n",
    "# variables' mean \n",
    "mu = np.repeat(0, 4)\n",
    "\n",
    "# names\n",
    "names = ['job_sat', 'int_qui', 'age', 'org_tnr']"
   ]
  },
  {
   "cell_type": "markdown",
   "metadata": {},
   "source": [
    "### Micro firms"
   ]
  },
  {
   "cell_type": "code",
   "execution_count": 43,
   "metadata": {},
   "outputs": [],
   "source": [
    "# the desired covariance matrix.\n",
    "r = np.array([\n",
    "        [  1.00, -0.40, -0.03,  0.11],\n",
    "        [ -0.40,  1.00, -0.05, -0.09],\n",
    "        [ -0.03, -0.05,  1.00,  0.05],\n",
    "        [  0.11, -0.09,  0.05,  1.00]\n",
    "    ])\n",
    "\n",
    "# generate the random samples.\n",
    "df_1_5 = pd.DataFrame(np.random.multivariate_normal(mu, r, size=num_samples),\n",
    "                      columns=names)\n",
    "\n",
    "# expand\n",
    "df_1_5.loc[:, 'cohort'] = 'micro'\n",
    "df_1_5.loc[:, 'firm_size'] = np.random.randint(low=1, high=5, size=num_samples)"
   ]
  },
  {
   "cell_type": "markdown",
   "metadata": {},
   "source": [
    "### Small firms"
   ]
  },
  {
   "cell_type": "code",
   "execution_count": 44,
   "metadata": {},
   "outputs": [],
   "source": [
    "# the desired covariance matrix.\n",
    "r = np.array([\n",
    "        [  1.00, -0.30, -0.03,  0.11],\n",
    "        [ -0.30,  1.00, -0.05, -0.09],\n",
    "        [ -0.03, -0.05,  1.00,  0.05],\n",
    "        [  0.11, -0.09,  0.05,  1.00]\n",
    "    ])\n",
    "\n",
    "# generate the random samples.\n",
    "df_6_25 = pd.DataFrame(np.random.multivariate_normal(mu, r, size=num_samples),\n",
    "                       columns=names)\n",
    "\n",
    "# expand\n",
    "df_6_25.loc[:, 'cohort'] = 'large'\n",
    "df_6_25.loc[:, 'firm_size'] = np.random.randint(low=6,\n",
    "                                                high=25,\n",
    "                                                size=num_samples)"
   ]
  },
  {
   "cell_type": "markdown",
   "metadata": {},
   "source": [
    "### Medium firms"
   ]
  },
  {
   "cell_type": "code",
   "execution_count": 45,
   "metadata": {},
   "outputs": [],
   "source": [
    "# the desired covariance matrix.\n",
    "r = np.array([\n",
    "        [  1.00, -0.25, -0.03,  0.11],\n",
    "        [ -0.25,  1.00, -0.05, -0.09],\n",
    "        [ -0.03, -0.05,  1.00,  0.05],\n",
    "        [  0.11, -0.09,  0.05,  1.00]\n",
    "    ])\n",
    "\n",
    "# generate the random samples.\n",
    "df_26_100 = pd.DataFrame(np.random.multivariate_normal(mu, r, size=num_samples),\n",
    "                         columns=names)\n",
    "\n",
    "# expand\n",
    "df_26_100.loc[:, 'cohort'] = 'medium'\n",
    "df_26_100.loc[:, 'firm_size'] = np.random.randint(low=26,\n",
    "                                                  high=100,\n",
    "                                                  size=num_samples)"
   ]
  },
  {
   "cell_type": "markdown",
   "metadata": {},
   "source": [
    "### Large firms"
   ]
  },
  {
   "cell_type": "code",
   "execution_count": 47,
   "metadata": {},
   "outputs": [],
   "source": [
    "# the desired covariance matrix.\n",
    "r = np.array([\n",
    "        [  1.00, -0.20, -0.03,  0.11],\n",
    "        [ -0.20,  1.00, -0.05, -0.09],\n",
    "        [ -0.03, -0.05,  1.00,  0.05],\n",
    "        [  0.11, -0.09,  0.05,  1.00]\n",
    "    ])\n",
    "\n",
    "# generate the random samples.\n",
    "df_101_500 = pd.DataFrame(np.random.multivariate_normal(mu, r, size=num_samples),\n",
    "                          columns=names)\n",
    "\n",
    "# expand\n",
    "df_101_500.loc[:, 'cohort'] = 'large'\n",
    "df_501_.loc[:, 'firm_size'] = np.random.randint(low=101, high=500,\n",
    "                                                size=num_samples)"
   ]
  },
  {
   "cell_type": "markdown",
   "metadata": {},
   "source": [
    "### Very large firms"
   ]
  },
  {
   "cell_type": "code",
   "execution_count": 48,
   "metadata": {},
   "outputs": [],
   "source": [
    "# the desired covariance matrix.\n",
    "r = np.array([\n",
    "        [  1.00, -0.15, -0.03,  0.11],\n",
    "        [ -0.15,  1.00, -0.05, -0.09],\n",
    "        [ -0.03, -0.05,  1.00,  0.05],\n",
    "        [  0.11, -0.09,  0.05,  1.00]\n",
    "    ])\n",
    "\n",
    "# generate the random samples.\n",
    "df_501_ = pd.DataFrame(np.random.multivariate_normal(mu, r, size=num_samples),\n",
    "                       columns=names)\n",
    "\n",
    "# expand\n",
    "df_501_.loc[:, 'cohort'] = 'very large'\n",
    "df_501_.loc[:, 'firm_size'] = np.random.randint(low=501, high=2000,\n",
    "                                                size=num_samples)"
   ]
  },
  {
   "cell_type": "markdown",
   "metadata": {},
   "source": [
    "#### Data preparation"
   ]
  },
  {
   "cell_type": "code",
   "execution_count": 50,
   "metadata": {},
   "outputs": [
    {
     "name": "stdout",
     "output_type": "stream",
     "text": [
      "<class 'pandas.core.frame.DataFrame'>\n",
      "Int64Index: 5000 entries, 0 to 999\n",
      "Data columns (total 6 columns):\n",
      " #   Column     Non-Null Count  Dtype  \n",
      "---  ------     --------------  -----  \n",
      " 0   job_sat    5000 non-null   float64\n",
      " 1   int_qui    5000 non-null   float64\n",
      " 2   age        5000 non-null   float64\n",
      " 3   org_tnr    5000 non-null   float64\n",
      " 4   cohort     5000 non-null   object \n",
      " 5   firm_size  4000 non-null   float64\n",
      "dtypes: float64(5), object(1)\n",
      "memory usage: 273.4+ KB\n"
     ]
    },
    {
     "data": {
      "text/html": [
       "<div>\n",
       "<style scoped>\n",
       "    .dataframe tbody tr th:only-of-type {\n",
       "        vertical-align: middle;\n",
       "    }\n",
       "\n",
       "    .dataframe tbody tr th {\n",
       "        vertical-align: top;\n",
       "    }\n",
       "\n",
       "    .dataframe thead th {\n",
       "        text-align: right;\n",
       "    }\n",
       "</style>\n",
       "<table border=\"1\" class=\"dataframe\">\n",
       "  <thead>\n",
       "    <tr style=\"text-align: right;\">\n",
       "      <th></th>\n",
       "      <th>job_sat</th>\n",
       "      <th>int_qui</th>\n",
       "      <th>age</th>\n",
       "      <th>org_tnr</th>\n",
       "      <th>cohort</th>\n",
       "      <th>firm_size</th>\n",
       "    </tr>\n",
       "  </thead>\n",
       "  <tbody>\n",
       "    <tr>\n",
       "      <th>0</th>\n",
       "      <td>1.148151</td>\n",
       "      <td>-0.837316</td>\n",
       "      <td>-0.154967</td>\n",
       "      <td>-0.678048</td>\n",
       "      <td>micro</td>\n",
       "      <td>4.0</td>\n",
       "    </tr>\n",
       "    <tr>\n",
       "      <th>1</th>\n",
       "      <td>-1.230232</td>\n",
       "      <td>1.177747</td>\n",
       "      <td>0.444298</td>\n",
       "      <td>-0.542662</td>\n",
       "      <td>micro</td>\n",
       "      <td>4.0</td>\n",
       "    </tr>\n",
       "    <tr>\n",
       "      <th>2</th>\n",
       "      <td>-1.146461</td>\n",
       "      <td>0.379922</td>\n",
       "      <td>0.377033</td>\n",
       "      <td>-0.586188</td>\n",
       "      <td>micro</td>\n",
       "      <td>1.0</td>\n",
       "    </tr>\n",
       "    <tr>\n",
       "      <th>3</th>\n",
       "      <td>-1.966901</td>\n",
       "      <td>-0.257917</td>\n",
       "      <td>0.047498</td>\n",
       "      <td>0.055967</td>\n",
       "      <td>micro</td>\n",
       "      <td>2.0</td>\n",
       "    </tr>\n",
       "    <tr>\n",
       "      <th>4</th>\n",
       "      <td>0.513499</td>\n",
       "      <td>-0.431897</td>\n",
       "      <td>0.306451</td>\n",
       "      <td>-0.466536</td>\n",
       "      <td>micro</td>\n",
       "      <td>1.0</td>\n",
       "    </tr>\n",
       "  </tbody>\n",
       "</table>\n",
       "</div>"
      ],
      "text/plain": [
       "    job_sat   int_qui       age   org_tnr cohort  firm_size\n",
       "0  1.148151 -0.837316 -0.154967 -0.678048  micro        4.0\n",
       "1 -1.230232  1.177747  0.444298 -0.542662  micro        4.0\n",
       "2 -1.146461  0.379922  0.377033 -0.586188  micro        1.0\n",
       "3 -1.966901 -0.257917  0.047498  0.055967  micro        2.0\n",
       "4  0.513499 -0.431897  0.306451 -0.466536  micro        1.0"
      ]
     },
     "execution_count": 50,
     "metadata": {},
     "output_type": "execute_result"
    }
   ],
   "source": [
    "df = pd.concat([df_1_5, df_6_25, df_26_100, df_101_500, df_501_],\n",
    "               axis=0)\n",
    "df.info()\n",
    "\n",
    "df.head()"
   ]
  },
  {
   "cell_type": "markdown",
   "metadata": {},
   "source": [
    "# Regression analysis"
   ]
  },
  {
   "cell_type": "markdown",
   "metadata": {},
   "source": [
    "??"
   ]
  },
  {
   "cell_type": "markdown",
   "metadata": {},
   "source": [
    "# Visualization"
   ]
  },
  {
   "cell_type": "markdown",
   "metadata": {},
   "source": [
    "??"
   ]
  },
  {
   "cell_type": "code",
   "execution_count": null,
   "metadata": {},
   "outputs": [],
   "source": []
  }
 ],
 "metadata": {
  "kernelspec": {
   "display_name": "Python 3",
   "language": "python",
   "name": "python3"
  },
  "language_info": {
   "codemirror_mode": {
    "name": "ipython",
    "version": 3
   },
   "file_extension": ".py",
   "mimetype": "text/x-python",
   "name": "python",
   "nbconvert_exporter": "python",
   "pygments_lexer": "ipython3",
   "version": "3.8.5"
  }
 },
 "nbformat": 4,
 "nbformat_minor": 4
}
